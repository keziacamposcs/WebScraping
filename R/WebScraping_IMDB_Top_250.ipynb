{
  "nbformat": 4,
  "nbformat_minor": 0,
  "metadata": {
    "colab": {
      "name": "WebScraping_IMDB_Top 250.ipynb",
      "provenance": [],
      "collapsed_sections": [],
      "authorship_tag": "ABX9TyNpYzxCZWDTwRIx1ESUaVvy"
    },
    "kernelspec": {
      "name": "ir",
      "display_name": "R"
    },
    "language_info": {
      "name": "R"
    }
  },
  "cells": [
    {
      "cell_type": "code",
      "metadata": {
        "id": "9EYWuaYRNrQL"
      },
      "source": [
        "library ('rvest')"
      ],
      "execution_count": 2,
      "outputs": []
    },
    {
      "cell_type": "code",
      "metadata": {
        "id": "JtKPhMR2NMpd"
      },
      "source": [
        "\n",
        "imdb <- read_html(\"https://www.imdb.com/search/title/?groups=top_250&sort=user_rating%22\")"
      ],
      "execution_count": 3,
      "outputs": []
    },
    {
      "cell_type": "code",
      "metadata": {
        "id": "FAIxZro0Nunr"
      },
      "source": [
        "#ler titulo dos filmes\n",
        "titulo = imdb %>%\n",
        "html_nodes(\"lister-item-content h3 a\") %>%\n",
        "html_text()"
      ],
      "execution_count": 4,
      "outputs": []
    },
    {
      "cell_type": "code",
      "metadata": {
        "id": "jz-U8mg8N5M9"
      },
      "source": [
        "#ler ano dos filmes\n",
        "ano=imdb %>%\n",
        "html_nodes(\"lister-item-content h3 .lister-item-year\") %>%\n",
        "html_text() %>%\n",
        "str_sub(start = 2, end =5) %>%\n",
        "as.Date(format = \"%Y\") %>%\n",
        "year()"
      ],
      "execution_count": null,
      "outputs": []
    }
  ]
}